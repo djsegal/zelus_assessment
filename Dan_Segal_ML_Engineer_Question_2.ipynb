{
 "cells": [
  {
   "cell_type": "markdown",
   "id": "a2754e9c",
   "metadata": {},
   "source": [
    "Date: May 23, 2023 <br>\n",
    "Author: Dan Segal <br>\n",
    "Github: @[djsegal](https://github.com/djsegal/zelus_assessment)\n",
    "\n",
    "# Zelus Assessment\n",
    "\n",
    "## Part 1: Data Analysis (cont.)\n",
    "\n",
    "---\n",
    "\n",
    "### Question 2\n",
    "\n",
    "Setting aside individual batter production, cricket teams have two main ‘resources’ for producing runs: \n",
    "\n",
    "+ remaining overs and\n",
    "+ remaining wickets\n",
    "\n",
    "The role resources have on run production is central to the statistical method known as ‘DLS’, which is used to award a winner in the case of incomplete/disrupted matches. \n",
    "\n",
    "#### Part A\n",
    "\n",
    "Use the ball-by-ball summaries under the innings descriptions of each men’s match to make a dataset with the run and wicket outcomes for each delivery in a match, excluding matches with no result.\n",
    "\n"
   ]
  },
  {
   "cell_type": "code",
   "execution_count": 1,
   "id": "9a25f78d",
   "metadata": {},
   "outputs": [],
   "source": [
    "import pandas as pd\n",
    "import numpy as np\n",
    "\n",
    "from itertools import groupby, count\n",
    "\n",
    "import seaborn as sns\n",
    "import matplotlib.pyplot as plt\n"
   ]
  },
  {
   "cell_type": "code",
   "execution_count": 2,
   "id": "35400ae7",
   "metadata": {},
   "outputs": [
    {
     "data": {
      "text/plain": [
       "wicket.kind\n",
       "caught                   17339\n",
       "bowled                    5621\n",
       "lbw                       3436\n",
       "run out                   2484\n",
       "caught and bowled          955\n",
       "stumped                    881\n",
       "retired hurt                48\n",
       "hit wicket                  27\n",
       "obstructing the field        6\n",
       "Name: count, dtype: int64"
      ]
     },
     "metadata": {},
     "output_type": "display_data"
    }
   ],
   "source": [
    "innings_results_filename = 'data/innings_results.json'\n",
    "innings_data = pd.read_json(innings_results_filename)\n",
    "\n",
    "index_cols = [\"matchid\",\"innings\",\"over\"]\n",
    "innings_data.sort_values(by=index_cols, inplace=True)\n",
    "\n",
    "# remove rows with no matchid\n",
    "innings_data = innings_data.dropna(subset=\"matchid\")\n",
    "\n",
    "# remove duplicated rows\n",
    "innings_data = innings_data.drop_duplicates(subset=[*index_cols,\"wicket.player_out\"])\n",
    "\n",
    "# remove games with very unusual events\n",
    "bad_games = innings_data[\n",
    "    ( innings_data[\"wicket.kind\"] == \"retired hurt\" ) |\n",
    "    ( innings_data[\"wicket.kind\"] == \"obstructing the field\" )\n",
    "].matchid\n",
    "\n",
    "display(innings_data[\"wicket.kind\"].value_counts())\n",
    "innings_data = innings_data[~innings_data.matchid.isin(bad_games)]\n",
    "\n",
    "# remove very rare fields\n",
    "innings_data = innings_data.dropna(thresh=len(innings_data)/10000, axis=1).copy()\n",
    "\n",
    "# require more than one possible value\n",
    "for col in innings_data.columns:\n",
    "    if len(innings_data[col].unique()) == 1:\n",
    "        innings_data.drop(col, inplace=True, axis=1)\n",
    "\n",
    "innings_data = innings_data.reset_index(drop=True)\n"
   ]
  },
  {
   "cell_type": "code",
   "execution_count": 3,
   "id": "cddeb2a3",
   "metadata": {
    "scrolled": true
   },
   "outputs": [
    {
     "name": "stdout",
     "output_type": "stream",
     "text": [
      "Dropped Pitch Count:  41\n",
      "Total Pitch Count:  1.1e+06\n",
      "\n",
      "Pitch Mismatch [%]:  9\n"
     ]
    }
   ],
   "source": [
    "# remove wides and noballs to correct pitch count\n",
    "innings_data = innings_data[pd.isnull(innings_data[\"wides\"])]\n",
    "innings_data = innings_data[pd.isnull(innings_data[\"noballs\"])]\n",
    "\n",
    "# add `overs` field that removes pitch component\n",
    "innings_data[\"overs\"] = np.floor(innings_data[\"over\"]).astype(int)\n",
    "\n",
    "innings_data[\"pitch\"] = innings_data.groupby([\"matchid\",\"innings\",\"overs\"]).cumcount()+1\n",
    "assert np.max(innings_data[\"pitch\"]) == 7\n",
    "\n",
    "drop_indices = []\n",
    "\n",
    "for cur_row in innings_data[innings_data[\"pitch\"] == 7].itertuples():\n",
    "    sub_table = innings_data[\n",
    "        ( innings_data.innings == cur_row.innings ) &\n",
    "        ( innings_data.matchid == cur_row.matchid ) &\n",
    "        ( innings_data.overs == cur_row.overs )\n",
    "    ]\n",
    "    \n",
    "    duplicated_indices = sub_table.drop(columns=[\"over\",\"pitch\"]).duplicated()[\n",
    "        sub_table.drop(columns=[\"over\",\"pitch\"]).duplicated()\n",
    "    ].index\n",
    "    \n",
    "    if len(duplicated_indices) > 0:\n",
    "        c = count()\n",
    "        val = max((list(g) for _, g in groupby(duplicated_indices, lambda x: x-next(c))), key=len)\n",
    "        \n",
    "        drop_indices.append(val[len(val)//2])\n",
    "        continue\n",
    "    \n",
    "    runless_indices = sub_table[\"runs.total\"][1:-1][sub_table[\"runs.total\"][1:-1] == 0].index\n",
    "    if len(runless_indices) > 0:\n",
    "        assert len(runless_indices) < 3\n",
    "        drop_indices.append(runless_indices[0])\n",
    "        continue\n",
    "    \n",
    "    display(sub_table)\n",
    "\n",
    "print(\"Dropped Pitch Count: \", len(drop_indices))\n",
    "print(\"Total Pitch Count: \", \"{:.1e}\".format(len(innings_data)))\n",
    "    \n",
    "innings_data = innings_data[~innings_data.index.isin(drop_indices)].copy()\n",
    "\n",
    "innings_data[\"pitch\"] = innings_data.groupby([\"matchid\",\"innings\",\"overs\"]).cumcount()+1\n",
    "assert np.max(innings_data[\"pitch\"]) == 6\n",
    "\n",
    "print(\"\\nPitch Mismatch [%]: \", int(np.round(100*(1-np.mean(\n",
    "    innings_data[\"over\"]  == ( innings_data[\"overs\"].astype(str) + \".\" + innings_data[\"pitch\"].astype(str) ).astype(float)\n",
    ")))))\n",
    "\n",
    "# todo: check this value against data set of final game runs\n",
    "innings_data[\"runs\"] = innings_data.groupby([\"team\",\"matchid\"])[\"runs.total\"].cumsum()\n"
   ]
  },
  {
   "cell_type": "code",
   "execution_count": 4,
   "id": "91140268",
   "metadata": {},
   "outputs": [
    {
     "data": {
      "image/png": "[encoded data removed]",
      "text/plain": [
       "<Figure size 1100x400 with 2 Axes>"
      ]
     },
     "metadata": {},
     "output_type": "display_data"
    }
   ],
   "source": [
    "innings_data[\"is_wicket\"] = ~pd.isnull(innings_data[\"wicket.kind\"])\n",
    "innings_data[\"remaining_wickets\"] = 10 - innings_data.groupby([\"team\",\"matchid\"]).is_wicket.cumsum()\n",
    "\n",
    "assert np.min(innings_data[\"remaining_wickets\"]) == 0\n",
    "assert np.max(innings_data[\"remaining_wickets\"]) == 10\n",
    "\n",
    "innings_data[\"remaining_overs\"] = ((49 - innings_data[\"overs\"]) + (6 - innings_data[\"pitch\"]) / 10 )\n",
    "\n",
    "assert np.abs( np.min(innings_data[\"remaining_overs\"]) - 0.0 ) < 1e-6\n",
    "assert np.max(innings_data[\"remaining_overs\"]) == 49.5\n",
    "\n",
    "# make histograms for remaining resources\n",
    "fig, (ax1, ax2) = plt.subplots(1, 2, figsize=(11,4))\n",
    "\n",
    "ax1.hist([\n",
    "    innings_data[innings_data.innings==1].remaining_wickets,\n",
    "    innings_data[innings_data.innings==2].remaining_wickets\n",
    "],bins=5, stacked=False, label=[\"1st Innings\",\"2nd Innings\"]);\n",
    "\n",
    "ax2.hist([\n",
    "    innings_data[innings_data.innings==1].remaining_overs,\n",
    "    innings_data[innings_data.innings==2].remaining_overs\n",
    "],bins=5, stacked=False);\n",
    "\n",
    "ax1.set_title(\"Remaining Wickets Histogram\")\n",
    "ax2.set_title(\"Remaining Overs Histogram\")\n",
    "\n",
    "ax2.yaxis.tick_right()\n",
    "ax1.legend();\n"
   ]
  },
  {
   "cell_type": "code",
   "execution_count": 5,
   "id": "8b8443d4",
   "metadata": {},
   "outputs": [
    {
     "data": {
      "text/html": [
       "<div>\n",
       "<style scoped>\n",
       "    .dataframe tbody tr th:only-of-type {\n",
       "        vertical-align: middle;\n",
       "    }\n",
       "\n",
       "    .dataframe tbody tr th {\n",
       "        vertical-align: top;\n",
       "    }\n",
       "\n",
       "    .dataframe thead th {\n",
       "        text-align: right;\n",
       "    }\n",
       "</style>\n",
       "<table border=\"1\" class=\"dataframe\">\n",
       "  <thead>\n",
       "    <tr style=\"text-align: right;\">\n",
       "      <th></th>\n",
       "      <th>batsman</th>\n",
       "      <th>bowler</th>\n",
       "      <th>non_striker</th>\n",
       "      <th>runs.batsman</th>\n",
       "      <th>...</th>\n",
       "      <th>total_wins</th>\n",
       "      <th>win_percentage</th>\n",
       "      <th>runs_per_over</th>\n",
       "      <th>weight</th>\n",
       "    </tr>\n",
       "  </thead>\n",
       "  <tbody>\n",
       "    <tr>\n",
       "      <th>858636</th>\n",
       "      <td>NW Bracken</td>\n",
       "      <td>HMCM Bandara</td>\n",
       "      <td>GB Hogg</td>\n",
       "      <td>0</td>\n",
       "      <td>...</td>\n",
       "      <td>17</td>\n",
       "      <td>0.708333</td>\n",
       "      <td>5.000000</td>\n",
       "      <td>0.389871</td>\n",
       "    </tr>\n",
       "    <tr>\n",
       "      <th>858637</th>\n",
       "      <td>RP Singh</td>\n",
       "      <td>MS Panesar</td>\n",
       "      <td>KD Karthik</td>\n",
       "      <td>0</td>\n",
       "      <td>...</td>\n",
       "      <td>15</td>\n",
       "      <td>0.500000</td>\n",
       "      <td>3.508065</td>\n",
       "      <td>0.389871</td>\n",
       "    </tr>\n",
       "    <tr>\n",
       "      <th>858638</th>\n",
       "      <td>WD Parnell</td>\n",
       "      <td>P Kumar</td>\n",
       "      <td>CK Langeveldt</td>\n",
       "      <td>1</td>\n",
       "      <td>...</td>\n",
       "      <td>11</td>\n",
       "      <td>0.733333</td>\n",
       "      <td>5.814889</td>\n",
       "      <td>0.389871</td>\n",
       "    </tr>\n",
       "    <tr>\n",
       "      <th>...</th>\n",
       "      <td>...</td>\n",
       "      <td>...</td>\n",
       "      <td>...</td>\n",
       "      <td>...</td>\n",
       "      <td>...</td>\n",
       "      <td>...</td>\n",
       "      <td>...</td>\n",
       "      <td>...</td>\n",
       "      <td>...</td>\n",
       "    </tr>\n",
       "    <tr>\n",
       "      <th>858645</th>\n",
       "      <td>A Zampa</td>\n",
       "      <td>B Kumar</td>\n",
       "      <td>AT Carey</td>\n",
       "      <td>0</td>\n",
       "      <td>...</td>\n",
       "      <td>16</td>\n",
       "      <td>0.695652</td>\n",
       "      <td>6.129032</td>\n",
       "      <td>0.389871</td>\n",
       "    </tr>\n",
       "    <tr>\n",
       "      <th>858646</th>\n",
       "      <td>Sayed Shirzad</td>\n",
       "      <td>O Thomas</td>\n",
       "      <td>Mujeeb Ur Rahman</td>\n",
       "      <td>0</td>\n",
       "      <td>...</td>\n",
       "      <td>3</td>\n",
       "      <td>0.187500</td>\n",
       "      <td>5.524194</td>\n",
       "      <td>0.389871</td>\n",
       "    </tr>\n",
       "    <tr>\n",
       "      <th>858647</th>\n",
       "      <td>Kuldeep Yadav</td>\n",
       "      <td>MP Stoinis</td>\n",
       "      <td>JJ Bumrah</td>\n",
       "      <td>0</td>\n",
       "      <td>...</td>\n",
       "      <td>15</td>\n",
       "      <td>0.652174</td>\n",
       "      <td>4.607646</td>\n",
       "      <td>0.389871</td>\n",
       "    </tr>\n",
       "  </tbody>\n",
       "</table>\n",
       "<p>12 rows × 46 columns</p>\n",
       "</div>"
      ],
      "text/plain": [
       "              batsman        bowler       non_striker  runs.batsman  ...   \n",
       "858636     NW Bracken  HMCM Bandara           GB Hogg             0  ...  \\\n",
       "858637       RP Singh    MS Panesar        KD Karthik             0  ...   \n",
       "858638     WD Parnell       P Kumar     CK Langeveldt             1  ...   \n",
       "...               ...           ...               ...           ...  ...   \n",
       "858645        A Zampa       B Kumar          AT Carey             0  ...   \n",
       "858646  Sayed Shirzad      O Thomas  Mujeeb Ur Rahman             0  ...   \n",
       "858647  Kuldeep Yadav    MP Stoinis         JJ Bumrah             0  ...   \n",
       "\n",
       "        total_wins  win_percentage  runs_per_over    weight  \n",
       "858636          17        0.708333       5.000000  0.389871  \n",
       "858637          15        0.500000       3.508065  0.389871  \n",
       "858638          11        0.733333       5.814889  0.389871  \n",
       "...            ...             ...            ...       ...  \n",
       "858645          16        0.695652       6.129032  0.389871  \n",
       "858646           3        0.187500       5.524194  0.389871  \n",
       "858647          15        0.652174       4.607646  0.389871  \n",
       "\n",
       "[12 rows x 46 columns]"
      ]
     },
     "metadata": {},
     "output_type": "display_data"
    }
   ],
   "source": [
    "# merge with results from previous step\n",
    "match_data = pd.read_csv(\"data/match_results.csv\")\n",
    "innings_data = pd.merge(innings_data, match_data, on=[\"matchid\", \"team\"])\n",
    "\n",
    "# restrict to male league games (as noted in document)\n",
    "innings_data = innings_data[innings_data.gender == \"male\"]\n",
    "\n",
    "# get runs_per_over using end of game results\n",
    "end_of_game_data = innings_data.drop_duplicates(subset=[\"team\",\"matchid\"], keep=\"last\").copy()\n",
    "end_of_game_data[\"runs_per_over\"] = end_of_game_data[\"runs\"] / end_of_game_data[\"over\"]\n",
    "\n",
    "innings_data = pd.merge(\n",
    "    innings_data, end_of_game_data[[\"matchid\",\"team\", \"runs_per_over\"]], on=[\"matchid\", \"team\"]\n",
    ")\n",
    "\n",
    "# use weights to focus on rarer \"remaining resource\" pairings\n",
    "weight_df = pd.DataFrame(\n",
    "    1/np.log1p(innings_data[[\"innings\",\"remaining_overs\",\"remaining_wickets\"]].value_counts())\n",
    ").reset_index().rename(columns={\"count\":\"weight\"})\n",
    "\n",
    "innings_data = pd.merge(\n",
    "    innings_data, weight_df,\n",
    "    on=[\"innings\",\"remaining_overs\",\"remaining_wickets\"]\n",
    ").sort_values(by=index_cols)\n",
    "\n",
    "with pd.option_context('display.max_columns', 8,'display.max_rows', 6): \n",
    "    display(innings_data[\n",
    "        ( innings_data[\"overs\"] == 49 ) &\n",
    "        ( innings_data[\"pitch\"] == 6 ) &\n",
    "        ( innings_data[\"remaining_wickets\"] == 0 ) &\n",
    "        ( innings_data[\"innings\"] == 2 )\n",
    "    ])\n",
    "    "
   ]
  },
  {
   "cell_type": "markdown",
   "id": "e5e91c54",
   "metadata": {},
   "source": [
    "---\n",
    "\n",
    "#### Part B\n",
    "\n",
    "Develop a model to predict an average team’s expected runs per over. Please state or include the assumptions/validation used to justify your model choice. A visualization prior to modelling could be helpful to justify your modelling decisions. Save your intermediate data with team, inning order, remaining overs, and remaining wickets to a JSON/CSV file for Q4. Summarize your conclusions."
   ]
  },
  {
   "cell_type": "code",
   "execution_count": 6,
   "id": "5fbbf195",
   "metadata": {},
   "outputs": [],
   "source": [
    "import optuna\n",
    "import tensorflow as tf\n",
    "\n",
    "from joblib import dump, load\n",
    "from xgboost import XGBRegressor\n",
    "\n",
    "from sklearn.pipeline import make_pipeline\n",
    "from sklearn.model_selection import train_test_split\n",
    "\n",
    "from sklearn.preprocessing import PolynomialFeatures\n",
    "from sklearn.preprocessing import StandardScaler\n",
    "\n",
    "from sklearn.compose import TransformedTargetRegressor\n",
    "from sklearn.compose import make_column_transformer\n",
    "\n",
    "from sklearn.linear_model import LinearRegression\n",
    "from sklearn.linear_model import ElasticNetCV\n",
    "\n",
    "from sklearn.ensemble import RandomForestRegressor\n",
    "from sklearn.ensemble import StackingRegressor\n",
    "\n",
    "from sklearn.neighbors import KNeighborsRegressor\n",
    "from sklearn.metrics import r2_score\n",
    "\n",
    "from keras.models import Sequential\n",
    "from keras.models import load_model\n",
    "\n",
    "from keras.layers import Dense\n",
    "from keras.layers.experimental.preprocessing import Normalization\n"
   ]
  },
  {
   "cell_type": "code",
   "execution_count": 7,
   "id": "b6ab877c",
   "metadata": {},
   "outputs": [],
   "source": [
    "input_fields = [\"innings\",\"remaining_overs\",\"remaining_wickets\"]\n",
    "\n",
    "X = innings_data[[\"team\", *input_fields, \"weight\"]]\n",
    "y = innings_data[\"runs_per_over\"]\n",
    "\n",
    "innings_data.to_csv('data/innings_results.csv', index=False)\n",
    "X.drop(columns=\"weight\").to_csv('data/intermediate_data.csv', index=False)\n"
   ]
  },
  {
   "cell_type": "code",
   "execution_count": 8,
   "id": "a19ad316",
   "metadata": {},
   "outputs": [
    {
     "data": {
      "image/png": "[encoded data removed]",
      "text/plain": [
       "<Figure size 640x480 with 2 Axes>"
      ]
     },
     "metadata": {},
     "output_type": "display_data"
    }
   ],
   "source": [
    "corr_df = innings_data[[\"innings\",\"remaining_overs\",\"remaining_wickets\",\"runs_per_over\"]].corr()\n",
    "\n",
    "mask = np.triu(np.ones_like(corr_df, dtype=bool))\n",
    "heatmap = sns.heatmap(corr_df, mask=mask, vmin=-1, vmax=1, annot=True, cmap='BrBG')\n"
   ]
  },
  {
   "cell_type": "code",
   "execution_count": 9,
   "id": "45c48fc5",
   "metadata": {},
   "outputs": [],
   "source": [
    "# Make sure some games do not appear in training set\n",
    "\n",
    "exclude_frac = 0.1\n",
    "train_test_frac = 0.2\n",
    "\n",
    "included_matches = innings_data.matchid.drop_duplicates().sample(\n",
    "    frac=1-exclude_frac, random_state=42\n",
    ")\n",
    "\n",
    "included_df = innings_data[ innings_data.matchid.isin(included_matches)]\n",
    "excluded_df = innings_data[~innings_data.matchid.isin(included_matches)]\n",
    "\n",
    "def get_X_and_y(input_df):\n",
    "    X = input_df[[*input_fields, \"weight\"]]\n",
    "    y = input_df[\"runs_per_over\"]\n",
    "    \n",
    "    return X, y\n",
    "\n",
    "X_train, X_test, y_train, y_test = train_test_split(\n",
    "    *get_X_and_y(included_df), stratify=np.log1p(included_df[\"runs_per_over\"]),\n",
    "    test_size=(train_test_frac-exclude_frac)/(1-exclude_frac), random_state=42\n",
    "    \n",
    ")\n",
    "\n",
    "X_excluded, y_excluded = get_X_and_y(excluded_df)\n",
    "X_test = pd.concat([X_test, X_excluded])\n",
    "y_test = pd.concat([y_test, y_excluded])\n",
    "\n",
    "assert np.abs( ( len(X_test) / len(innings_data) ) - ( train_test_frac ) ) < 3e-3\n",
    "assert np.abs( len(excluded_df) / len(innings_data) - ( exclude_frac ) ) < 3e-3\n"
   ]
  },
  {
   "cell_type": "code",
   "execution_count": 10,
   "id": "cb2d5141",
   "metadata": {},
   "outputs": [
    {
     "name": "stdout",
     "output_type": "stream",
     "text": [
      "R^2 score for Linear Regression:  0.196\n"
     ]
    }
   ],
   "source": [
    "# First do Linear Regression as Benchmark\n",
    "\n",
    "least_squares_model = LinearRegression()\n",
    "least_squares_model.fit(X_train.drop(columns=\"weight\"), y_train)\n",
    "\n",
    "y_pred = least_squares_model.predict(X_test.drop(columns=\"weight\"))\n",
    "score = r2_score(y_test, y_pred)\n",
    "\n",
    "print(\"R^2 score for Linear Regression: \", round(score,3))\n"
   ]
  },
  {
   "cell_type": "code",
   "execution_count": 11,
   "id": "a06ff4f2",
   "metadata": {},
   "outputs": [
    {
     "data": {
      "image/png": "[encoded data removed]",
      "text/plain": [
       "<Figure size 1100x400 with 2 Axes>"
      ]
     },
     "metadata": {},
     "output_type": "display_data"
    }
   ],
   "source": [
    "fig, (ax1, ax2) = plt.subplots(1, 2, figsize=(11,4))\n",
    "\n",
    "ax1.hist([\n",
    "    innings_data[\"runs_per_over\"]\n",
    "], stacked=False)\n",
    "\n",
    "ax2.hist([\n",
    "    np.log1p(innings_data[\"runs_per_over\"])\n",
    "], stacked=False)\n",
    "\n",
    "ax1.set_title(\"Runs / Over\")\n",
    "ax2.set_title(\"log( 1 + Runs / Over )\");\n"
   ]
  },
  {
   "cell_type": "code",
   "execution_count": 12,
   "id": "5cc9ecff",
   "metadata": {},
   "outputs": [
    {
     "name": "stdout",
     "output_type": "stream",
     "text": [
      "R^2 score for ElasticNetCV:  0.204\n"
     ]
    }
   ],
   "source": [
    "# Make a more sophisticated ElasticNetCV model\n",
    "\n",
    "# excluding weights from transformations\n",
    "elastic_net_scaler = make_column_transformer(\n",
    "    (StandardScaler(), input_fields),\n",
    "    (PolynomialFeatures(2), input_fields),\n",
    "    remainder='passthrough'\n",
    ")\n",
    "\n",
    "elastic_net_pipeline = make_pipeline(\n",
    "    elastic_net_scaler, ElasticNetCV(cv=5, random_state=42)\n",
    ")\n",
    "\n",
    "# fitting our model in log space\n",
    "elastic_net_model = TransformedTargetRegressor(\n",
    "    regressor=elastic_net_pipeline, \n",
    "    func=np.log1p, inverse_func=np.expm1\n",
    ")\n",
    "\n",
    "weight_kwargs = {elastic_net_pipeline.steps[-1][0] + '__sample_weight': X_train[\"weight\"]}\n",
    "elastic_net_model.fit(X_train.drop(columns=\"weight\"), y_train, **weight_kwargs)\n",
    "\n",
    "y_pred = elastic_net_model.predict(X_test.drop(columns=\"weight\"))\n",
    "score = r2_score(y_test, y_pred)\n",
    "\n",
    "print(\"R^2 score for ElasticNetCV: \", round(score,3))\n"
   ]
  },
  {
   "cell_type": "code",
   "execution_count": 13,
   "id": "ea0be5b9",
   "metadata": {},
   "outputs": [
    {
     "name": "stdout",
     "output_type": "stream",
     "text": [
      "R^2 score for RandomForest:  0.213\n"
     ]
    }
   ],
   "source": [
    "# Try out Random Forest to investigate non-linearities\n",
    "\n",
    "base_model = RandomForestRegressor(n_jobs=-1)\n",
    "\n",
    "random_forest_model = TransformedTargetRegressor(\n",
    "    regressor=base_model, func=np.log1p, inverse_func=np.expm1\n",
    ")\n",
    "\n",
    "random_forest_model.fit(X_train.drop(columns=\"weight\"), y_train, sample_weight=X_train[\"weight\"])\n",
    "\n",
    "y_pred = random_forest_model.predict(X_test.drop(columns=\"weight\"))\n",
    "score = r2_score(y_test, y_pred)\n",
    "\n",
    "print(\"R^2 score for RandomForest: \", round(score,3))\n"
   ]
  },
  {
   "cell_type": "code",
   "execution_count": 14,
   "id": "78639560",
   "metadata": {
    "scrolled": true
   },
   "outputs": [
    {
     "name": "stderr",
     "output_type": "stream",
     "text": [
      "\u001b[32m[I 2023-05-25 04:09:38,794]\u001b[0m A new study created in memory with name: no-name-ab873769-d871-474a-93fc-990db5a49627\u001b[0m\n",
      "\u001b[32m[I 2023-05-25 04:09:39,102]\u001b[0m Trial 0 finished with value: -0.7755200514454283 and parameters: {'n_estimators': 4, 'max_depth': 7}. Best is trial 0 with value: -0.7755200514454283.\u001b[0m\n",
      "\u001b[32m[I 2023-05-25 04:09:39,507]\u001b[0m Trial 1 finished with value: -0.775309281793914 and parameters: {'n_estimators': 4, 'max_depth': 10}. Best is trial 1 with value: -0.775309281793914.\u001b[0m\n",
      "\u001b[32m[I 2023-05-25 04:09:45,097]\u001b[0m Trial 2 finished with value: 0.21930627208151798 and parameters: {'n_estimators': 57, 'max_depth': 11}. Best is trial 2 with value: 0.21930627208151798.\u001b[0m\n",
      "\u001b[32m[I 2023-05-25 04:09:46,312]\u001b[0m Trial 3 finished with value: 0.22229975229987764 and parameters: {'n_estimators': 22, 'max_depth': 6}. Best is trial 3 with value: 0.22229975229987764.\u001b[0m\n",
      "\u001b[32m[I 2023-05-25 04:09:47,372]\u001b[0m Trial 4 finished with value: 0.22224315306195797 and parameters: {'n_estimators': 19, 'max_depth': 6}. Best is trial 3 with value: 0.22229975229987764.\u001b[0m\n",
      "\u001b[32m[I 2023-05-25 04:09:47,687]\u001b[0m Trial 5 finished with value: -0.2710578442876326 and parameters: {'n_estimators': 5, 'max_depth': 6}. Best is trial 3 with value: 0.22229975229987764.\u001b[0m\n",
      "\u001b[32m[I 2023-05-25 04:09:48,133]\u001b[0m Trial 6 finished with value: -0.2694256414638567 and parameters: {'n_estimators': 5, 'max_depth': 9}. Best is trial 3 with value: 0.22229975229987764.\u001b[0m\n",
      "\u001b[32m[I 2023-05-25 04:09:48,665]\u001b[0m Trial 7 finished with value: 0.16267661282694945 and parameters: {'n_estimators': 8, 'max_depth': 7}. Best is trial 3 with value: 0.22229975229987764.\u001b[0m\n"
     ]
    },
    {
     "name": "stdout",
     "output_type": "stream",
     "text": [
      "R^2 score for XGBoost:  0.222\n"
     ]
    }
   ],
   "source": [
    "# Run optimization study on xgboost parameters (no log scaling)\n",
    "\n",
    "def objective(trial):\n",
    "    n_estimators = trial.suggest_int('n_estimators', 4, 60, log=True)\n",
    "    max_depth = trial.suggest_int('max_depth', 4, 12)\n",
    "\n",
    "    model = XGBRegressor(\n",
    "        n_jobs=-1, n_estimators=n_estimators, max_depth=max_depth\n",
    "    )\n",
    "    \n",
    "    model.fit(X_train.drop(columns=\"weight\"), y_train, sample_weight=X_train[\"weight\"])\n",
    "    y_pred = model.predict(X_test.drop(columns=\"weight\"))\n",
    "    \n",
    "    return r2_score(y_test, y_pred)\n",
    "\n",
    "max_trials = 8\n",
    "\n",
    "study = optuna.create_study(direction='maximize')\n",
    "study.optimize(objective, n_trials=max_trials) \n",
    "\n",
    "xg_boost_model = XGBRegressor(**study.best_params)\n",
    "xg_boost_model.fit(X_train.drop(columns=\"weight\"), y_train, sample_weight=X_train[\"weight\"])\n",
    "\n",
    "y_pred = xg_boost_model.predict(X_test.drop(columns=\"weight\"))\n",
    "score = r2_score(y_test, y_pred)\n",
    "\n",
    "print(\"R^2 score for XGBoost: \", round(score,3))\n"
   ]
  },
  {
   "cell_type": "code",
   "execution_count": 15,
   "id": "ce400b83",
   "metadata": {
    "scrolled": true
   },
   "outputs": [
    {
     "name": "stdout",
     "output_type": "stream",
     "text": [
      "Epoch 1/8\n",
      "21644/21644 [==============================] - 9s 382us/step - loss: 0.1614\n",
      "Epoch 2/8\n",
      "21644/21644 [==============================] - 8s 358us/step - loss: 0.1527\n",
      "Epoch 3/8\n",
      "21644/21644 [==============================] - 8s 380us/step - loss: 0.1526\n",
      "Epoch 4/8\n",
      "21644/21644 [==============================] - 8s 372us/step - loss: 0.1524\n",
      "Epoch 5/8\n",
      "21644/21644 [==============================] - 8s 375us/step - loss: 0.1522\n",
      "Epoch 6/8\n",
      "21644/21644 [==============================] - 8s 365us/step - loss: 0.1521\n",
      "Epoch 7/8\n",
      "21644/21644 [==============================] - 8s 358us/step - loss: 0.1521\n",
      "Epoch 8/8\n",
      "21644/21644 [==============================] - 7s 342us/step - loss: 0.1520\n",
      "5346/5346 [==============================] - 1s 215us/step\n",
      "R^2 score for NeuralNets:  0.215\n"
     ]
    }
   ],
   "source": [
    "# Train a simple neural net model\n",
    "\n",
    "normalizer = Normalization()\n",
    "normalizer.adapt(X_train.drop(columns=\"weight\"))\n",
    "\n",
    "neural_net_model = Sequential()\n",
    "neural_net_model.add(normalizer)\n",
    "\n",
    "neural_net_model.add(Dense(64, activation='relu', input_shape=(X_train.drop(columns=\"weight\").shape[1],)))\n",
    "neural_net_model.add(Dense(32, activation='relu'))\n",
    "neural_net_model.add(Dense(1))\n",
    "\n",
    "neural_net_model.compile(optimizer=\"adam\", loss=\"mse\")\n",
    "\n",
    "max_epochs = 8\n",
    "\n",
    "neural_net_model.fit(\n",
    "    X_train.drop(columns=\"weight\"), y_train, verbose=1,\n",
    "    sample_weight=X_train[\"weight\"], epochs=max_epochs, batch_size=32\n",
    ")\n",
    "\n",
    "y_pred = neural_net_model.predict(X_test.drop(columns=\"weight\"))\n",
    "\n",
    "score = r2_score(y_test, y_pred)\n",
    "\n",
    "print(\"R^2 score for NeuralNets: \", round(score,3))\n"
   ]
  },
  {
   "cell_type": "code",
   "execution_count": 16,
   "id": "ea3a7319",
   "metadata": {},
   "outputs": [
    {
     "name": "stdout",
     "output_type": "stream",
     "text": [
      "R^2 score for StackedEnsemble:  0.218\n"
     ]
    }
   ],
   "source": [
    "# Train another weak learner (R^2 ~ 0.09)\n",
    "simple_knn_model = KNeighborsRegressor()\n",
    "\n",
    "simple_knn_model.fit(\n",
    "    X_train.drop(columns=\"weight\"), y_train\n",
    ")\n",
    "\n",
    "estimator_list = [\n",
    "    ('ls', least_squares_model),\n",
    "    ('en', elastic_net_model),\n",
    "    ('rn', random_forest_model),\n",
    "    ('sk', simple_knn_model),\n",
    "    ('xg', xg_boost_model)\n",
    "]\n",
    "\n",
    "stack_ensemble_regressor = StackingRegressor(\n",
    "    estimator_list, cv='prefit', n_jobs=-1, verbose=1,\n",
    "    final_estimator=ElasticNetCV(cv=5, random_state=42)\n",
    ")\n",
    "\n",
    "stack_ensemble_regressor.fit(\n",
    "    X_train.drop(columns=\"weight\"), y_train,\n",
    "    sample_weight=X_train[\"weight\"]\n",
    ")\n",
    "\n",
    "y_pred = stack_ensemble_regressor.predict(X_test.drop(columns=\"weight\"))\n",
    "score = r2_score(y_test, y_pred)\n",
    "\n",
    "print(\"R^2 score for StackedEnsemble: \", round(score,3))\n"
   ]
  },
  {
   "cell_type": "code",
   "execution_count": 17,
   "id": "7cb6d676",
   "metadata": {},
   "outputs": [
    {
     "name": "stdout",
     "output_type": "stream",
     "text": [
      "INFO:tensorflow:Assets written to: neural_net/assets\n"
     ]
    },
    {
     "name": "stderr",
     "output_type": "stream",
     "text": [
      "INFO:tensorflow:Assets written to: neural_net/assets\n"
     ]
    },
    {
     "name": "stdout",
     "output_type": "stream",
     "text": [
      "5346/5346 [==============================] - 1s 253us/step\n",
      "R^2 score for FullModel:  0.22\n"
     ]
    }
   ],
   "source": [
    "# Approximate the model we will use in command line\n",
    "\n",
    "neural_net_model.save(\"neural_net\")\n",
    "dump(stack_ensemble_regressor, 'data/stack_model.joblib') \n",
    "\n",
    "loaded_nn_model = load_model('neural_net')\n",
    "loaded_se_model = load('data/stack_model.joblib') \n",
    "\n",
    "y_pred = 0.5 * (  \n",
    "    loaded_se_model.predict(X_test.drop(columns=\"weight\")) + \n",
    "    loaded_nn_model.predict(X_test.drop(columns=\"weight\")).transpose()[0]\n",
    ")\n",
    "\n",
    "score = r2_score(y_test, y_pred)\n",
    "\n",
    "print(\"R^2 score for FullModel: \", round(score,3))\n"
   ]
  },
  {
   "cell_type": "markdown",
   "id": "bfd64c4b",
   "metadata": {},
   "source": [
    "---\n",
    "\n",
    "#### Discussion\n",
    "\n",
    "In this analysis, we developed a model to predict an average cricket team's expected runs per over. Our exploration of various regression techniques - Linear Regression, Elastic Net CV, Random Forest, XGBoost, Neural Networks, and Stacked Ensembles - showcased the merits of each approach. We found that all models significantly outperformed a naive mean-based prediction, with the best model, a combination of Stacked Ensembles and Neural Networks, achieving an R^2 score of 0.22. These results suggest that there are meaningful patterns in the data that our models are beginning to capture.\n",
    "\n",
    "However, it should be noted that due to the inherent complexity and unpredictability of cricket matches, achieving a much higher R^2 might not be feasible. Further improvements may come from feature engineering or exploring more complex models, but these would also increase the risk of overfitting. The data used for modeling, including team, inning order, remaining overs, and remaining wickets, has been saved in CSV files for further analysis and future use. Our study provides a foundation for future research in this domain and paves the way for developing more sophisticated models for cricket analytics."
   ]
  }
 ],
 "metadata": {
  "@webio": {
   "lastCommId": null,
   "lastKernelId": null
  },
  "kernelspec": {
   "display_name": "Python 3 (ipykernel)",
   "language": "python",
   "name": "python3"
  },
  "language_info": {
   "codemirror_mode": {
    "name": "ipython",
    "version": 3
   },
   "file_extension": ".py",
   "mimetype": "text/x-python",
   "name": "python",
   "nbconvert_exporter": "python",
   "pygments_lexer": "ipython3",
   "version": "3.11.3"
  }
 },
 "nbformat": 4,
 "nbformat_minor": 5
}
